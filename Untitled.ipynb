{
 "cells": [
  {
   "cell_type": "code",
   "execution_count": 1,
   "id": "ed04a3b1",
   "metadata": {},
   "outputs": [],
   "source": [
    "import json\n",
    "\n",
    "import numpy as np\n",
    "import pandas as pd\n",
    "import random\n",
    "\n",
    "from neo4j import GraphDatabase"
   ]
  },
  {
   "cell_type": "code",
   "execution_count": 2,
   "id": "54d77b1e",
   "metadata": {},
   "outputs": [],
   "source": [
    "size = 50_000\n",
    "transaction_id = list(range(1, size + 1))\n",
    "vendor_number = np.random.randint(low=1, high=50_001, size=size)\n",
    "transaction_amount = np.random.randint(low=20, high=1_250_000, size=size)\n",
    "transaction_types = ['cash_withdrawal', 'cash_deposit', 'transfer_domestic', 'transfer_international']\n",
    "random_integers = [0, 1, 3]\n",
    "transaction_list = [transaction_types[random.choice(random_integers)] for _ in range(size)]"
   ]
  },
  {
   "cell_type": "code",
   "execution_count": 3,
   "id": "73fdc5f8",
   "metadata": {},
   "outputs": [],
   "source": [
    "transaction_data = {\"transaction_ID\": transaction_id,\n",
    "                   \"vendor_number\" : list(vendor_number),\n",
    "                   \"transaction_amount\" : list(transaction_amount),\n",
    "                    \"transaction_type\" : transaction_list,}\n",
    "\n",
    "transaction_DataFrame = pd.DataFrame(transaction_data)\n",
    "transaction_list = transaction_DataFrame.values.tolist()\n",
    "\n",
    "transaction_execution_commands = []\n",
    "\n",
    "for i in transaction_list:\n",
    "    neo4j_create_statemenet = \"create (t:Transaction {transaction_id:\" + str(i[0]) +\", vendor_number:  \" + str(i[1]) +\", transaction_amount: \" + str(i[2]) +\", transaction_type: '\" + str(i[3]) + \"'})\"\n",
    "    transaction_execution_commands.append(neo4j_create_statemenet)"
   ]
  },
  {
   "cell_type": "code",
   "execution_count": 4,
   "id": "4b4a9ea2",
   "metadata": {},
   "outputs": [
    {
     "data": {
      "text/plain": [
       "\"create (t:Transaction {transaction_id:1, vendor_number:  556, transaction_amount: 313624, transaction_type: 'cash_deposit'})\""
      ]
     },
     "execution_count": 4,
     "metadata": {},
     "output_type": "execute_result"
    }
   ],
   "source": [
    "transaction_execution_commands[0]"
   ]
  },
  {
   "cell_type": "code",
   "execution_count": 5,
   "id": "83f0f7d2",
   "metadata": {},
   "outputs": [],
   "source": [
    "def execute_driver_transaction(driver, command):\n",
    "    with driver.session() as session:\n",
    "        session.run(command)\n",
    "\n",
    "def execute_session_transaction(session, command):\n",
    "    session.run(command)"
   ]
  },
  {
   "cell_type": "code",
   "execution_count": 6,
   "id": "fc142196",
   "metadata": {},
   "outputs": [],
   "source": [
    "driver = GraphDatabase.driver(uri='bolt://localhost:7687', auth=(\"neo4j\", \"password\"))"
   ]
  },
  {
   "cell_type": "code",
   "execution_count": 7,
   "id": "a00f6bd0",
   "metadata": {},
   "outputs": [
    {
     "data": {
      "text/plain": [
       "<neo4j.BoltDriver at 0x12364ee20>"
      ]
     },
     "execution_count": 7,
     "metadata": {},
     "output_type": "execute_result"
    }
   ],
   "source": [
    "driver"
   ]
  },
  {
   "cell_type": "code",
   "execution_count": 8,
   "id": "d922540d",
   "metadata": {},
   "outputs": [],
   "source": [
    "execute_driver_transaction(driver, transaction_execution_commands[0])"
   ]
  },
  {
   "cell_type": "code",
   "execution_count": null,
   "id": "4ee5ef2a",
   "metadata": {},
   "outputs": [],
   "source": [
    "with driver.session() as session:\n",
    "    for transaction_execution_command in transaction_execution_commands:\n",
    "        execute_session_transaction(session, transaction_execution_command)"
   ]
  },
  {
   "cell_type": "code",
   "execution_count": null,
   "id": "8420145b",
   "metadata": {},
   "outputs": [],
   "source": []
  }
 ],
 "metadata": {
  "kernelspec": {
   "display_name": "Python 3 (ipykernel)",
   "language": "python",
   "name": "python3"
  },
  "language_info": {
   "codemirror_mode": {
    "name": "ipython",
    "version": 3
   },
   "file_extension": ".py",
   "mimetype": "text/x-python",
   "name": "python",
   "nbconvert_exporter": "python",
   "pygments_lexer": "ipython3",
   "version": "3.9.6"
  }
 },
 "nbformat": 4,
 "nbformat_minor": 5
}
